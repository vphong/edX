{
 "cells": [
  {
   "cell_type": "markdown",
   "metadata": {},
   "source": [
    "# Week 1 Problem Set\n",
    "## Problem 1\n",
    "Assume `s` is a string of lower case characters.\n",
    "\n",
    "Write a program that counts up the number of vowels contained in the string `s`. Valid vowels are: '`a`', '`e`', '`i`', '`o`', and '`u`'. For example, if `s = 'azcbobobegghakl'`, your program should print:\n",
    "\n",
    "```\n",
    "Number of vowels: 5\n",
    "```"
   ]
  },
  {
   "cell_type": "code",
   "execution_count": 1,
   "metadata": {},
   "outputs": [],
   "source": [
    "def countVowels(s):\n",
    "    numVowels = 0\n",
    "    for char in s:\n",
    "        if char == 'a' or char == 'e' or char == 'i' or char == 'o' or char == 'u':\n",
    "            numVowels += 1\n",
    "\n",
    "    print(\"Number of vowels: \" + str(numVowels))"
   ]
  },
  {
   "cell_type": "markdown",
   "metadata": {},
   "source": [
    "## Problem 2\n",
    "Assume `s` is a string of lower case characters.\n",
    "\n",
    "Write a program that counts up the number of vowels contained in the string `bob`. For example, if `s = 'azcbobobegghakl'`, your program should print:\n",
    "\n",
    "```\n",
    "Number of times bob occurs is: 2\n",
    "```"
   ]
  },
  {
   "cell_type": "code",
   "execution_count": null,
   "metadata": {},
   "outputs": [],
   "source": [
    "def countBob(s):\n",
    "    numBob = 0\n",
    "\n",
    "    for i in range(len(s)):\n",
    "        if s[i:i+3] == \"bob\":\n",
    "            numBob += 1\n",
    "\n",
    "    print(\"Number of times bob occurs is: \" + str(numBob))"
   ]
  },
  {
   "cell_type": "markdown",
   "metadata": {},
   "source": [
    "## Problem 3\n",
    "Assume `s` is a string of lower case characters.\n",
    "\n",
    "Write a program that prints the longest substring of `s` in which the letters occur in alphabetical order. For example, if `s = 'azcbobobegghakl'`, then your program should print\n",
    "\n",
    "```\n",
    "Longest substring in alphabetical order is: beggh\n",
    "```\n",
    "\n",
    "In the case of ties, print the first substring. For example, if `s = 'abcbcd'`, then your program should print\n",
    "\n",
    "```\n",
    "Longest substring in alphabetical order is: abc\n",
    "```\n"
   ]
  },
  {
   "cell_type": "code",
   "execution_count": 2,
   "metadata": {},
   "outputs": [],
   "source": [
    "def countAlphSubstr(s):\n",
    "    # storage for all alphabetical strings found\n",
    "    alphabeticalStrs = []\n",
    "    \n",
    "    # extra whitespace to more easily iterate through s\n",
    "    s += \" \" \n",
    "    abc = s[0] \n",
    "    for i in range(len(s)-1):\n",
    "        if s[i] <= s[i+1]:\n",
    "            abc += s[i+1]\n",
    "        else:\n",
    "            alphabeticalStr.append(abc)\n",
    "            abc = s[i+1]\n",
    "\n",
    "    print(\"Longest substring in alphabetical order is: \" + max(alphabeticalStr, key=len))"
   ]
  }
 ],
 "metadata": {
  "kernelspec": {
   "display_name": "Python 3",
   "language": "python",
   "name": "python3"
  },
  "language_info": {
   "codemirror_mode": {
    "name": "ipython",
    "version": 3
   },
   "file_extension": ".py",
   "mimetype": "text/x-python",
   "name": "python",
   "nbconvert_exporter": "python",
   "pygments_lexer": "ipython3",
   "version": "3.6.1"
  }
 },
 "nbformat": 4,
 "nbformat_minor": 2
}
